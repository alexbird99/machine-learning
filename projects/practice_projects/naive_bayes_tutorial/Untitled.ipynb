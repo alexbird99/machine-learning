{
 "cells": [
  {
   "cell_type": "code",
   "execution_count": 4,
   "metadata": {
    "collapsed": false
   },
   "outputs": [
    {
     "ename": "AttributeError",
     "evalue": "'module' object has no attribute 'read'",
     "output_type": "error",
     "traceback": [
      "\u001b[0;31m---------------------------------------------------------------------------\u001b[0m",
      "\u001b[0;31mAttributeError\u001b[0m                            Traceback (most recent call last)",
      "\u001b[0;32m<ipython-input-4-dc93567c21a5>\u001b[0m in \u001b[0;36m<module>\u001b[0;34m()\u001b[0m\n\u001b[1;32m      6\u001b[0m \u001b[0;34m\u001b[0m\u001b[0m\n\u001b[1;32m      7\u001b[0m \u001b[0;31m# Load the dataset\u001b[0m\u001b[0;34m\u001b[0m\u001b[0;34m\u001b[0m\u001b[0m\n\u001b[0;32m----> 8\u001b[0;31m \u001b[0mX\u001b[0m \u001b[0;34m=\u001b[0m \u001b[0mpd\u001b[0m\u001b[0;34m.\u001b[0m\u001b[0mread\u001b[0m\u001b[0;34m(\u001b[0m\u001b[0;34m'smsspamcollection/SMSSpamCollection'\u001b[0m\u001b[0;34m)\u001b[0m\u001b[0;34m\u001b[0m\u001b[0m\n\u001b[0m\u001b[1;32m      9\u001b[0m \u001b[0;31m# Limit to categorical data\u001b[0m\u001b[0;34m\u001b[0m\u001b[0;34m\u001b[0m\u001b[0m\n\u001b[1;32m     10\u001b[0m \u001b[0mX\u001b[0m \u001b[0;34m=\u001b[0m \u001b[0mX\u001b[0m\u001b[0;34m.\u001b[0m\u001b[0mselect_dtypes\u001b[0m\u001b[0;34m(\u001b[0m\u001b[0minclude\u001b[0m\u001b[0;34m=\u001b[0m\u001b[0;34m[\u001b[0m\u001b[0mobject\u001b[0m\u001b[0;34m]\u001b[0m\u001b[0;34m)\u001b[0m\u001b[0;34m\u001b[0m\u001b[0m\n",
      "\u001b[0;31mAttributeError\u001b[0m: 'module' object has no attribute 'read'"
     ]
    }
   ],
   "source": [
    "# In this exercise we'll load the titanic data (from Project 0)\n",
    "# And then perform one-hot encoding on the feature names\n",
    "\n",
    "import numpy as np\n",
    "import pandas as pd\n",
    "\n",
    "# Load the dataset\n",
    "X = pd.read('smsspamcollection/SMSSpamCollection')\n",
    "# Limit to categorical data\n",
    "X = X.select_dtypes(include=[object])\n",
    "\n",
    "from sklearn.preprocessing import LabelEncoder\n",
    "from sklearn.preprocessing import OneHotEncoder\n",
    "\n",
    "# TODO: Create a LabelEncoder object, which will turn all labels present in\n",
    "#       in each feature to numbers. \n",
    "# HINT: Use LabelEncoder()\n",
    "le = LabelEncoder()\n",
    "\n",
    "\n",
    "# TODO: For each feature in X, apply the LabelEncoder's fit_transform\n",
    "#       function, which will first learn the labels for the feature (fit)\n",
    "#       and then change the labels to numbers (transform). \n",
    "\n",
    "for feature in X:\n",
    "    # HINT: use fit_transform on X[feature] using the LabelEncoder() object\n",
    "    X[feature] = le.fit_transform(X[feature])\n",
    "\n",
    "# TODO: Create a OneHotEncoder object, which will create a feature for each\n",
    "#       label present in the data. \n",
    "# HINT: Use OneHotEncoder()\n",
    "ohe = OneHotEncoder()\n",
    "\n",
    "# TODO: Apply the OneHotEncoder's fit_transform function to all of X, which will\n",
    "#       first learn of all the (now numerical) labels in the data (fit), and then\n",
    "#       change the data to one-hot encoded entries (transform).\n",
    "\n",
    "# HINT: Use fit_transform on X using the OneHotEncoder() object\n",
    "xt = ohe.fit_transform(X.reshape(-1,1))\n",
    "onehotlabels = xt"
   ]
  }
 ],
 "metadata": {
  "kernelspec": {
   "display_name": "Python 2",
   "language": "python",
   "name": "python2"
  },
  "language_info": {
   "codemirror_mode": {
    "name": "ipython",
    "version": 2
   },
   "file_extension": ".py",
   "mimetype": "text/x-python",
   "name": "python",
   "nbconvert_exporter": "python",
   "pygments_lexer": "ipython2",
   "version": "2.7.13"
  }
 },
 "nbformat": 4,
 "nbformat_minor": 2
}
